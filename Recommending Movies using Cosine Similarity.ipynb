{
 "cells": [
  {
   "cell_type": "code",
   "execution_count": 12,
   "id": "976fbda3-5a73-4b32-96dd-41e1fcb8227f",
   "metadata": {},
   "outputs": [],
   "source": [
    "import numpy as np\n",
    "import pandas as pd\n",
    "import matplotlib.pyplot as plt\n",
    "import seaborn as sns"
   ]
  },
  {
   "cell_type": "code",
   "execution_count": 13,
   "id": "c3f69fdc-bb49-4cb6-ab64-629e72392637",
   "metadata": {},
   "outputs": [],
   "source": [
    "df=pd.read_csv('bollywood1to950.csv')"
   ]
  },
  {
   "cell_type": "code",
   "execution_count": 14,
   "id": "46583baa-3faf-4e08-80ad-54c72d7a47f8",
   "metadata": {},
   "outputs": [],
   "source": [
    "df.drop('Year',axis=1,inplace=True)"
   ]
  },
  {
   "cell_type": "code",
   "execution_count": 15,
   "id": "1bc5119a-f87c-47de-9124-cf2ac36f91cf",
   "metadata": {},
   "outputs": [
    {
     "name": "stdout",
     "output_type": "stream",
     "text": [
      "<class 'pandas.core.frame.DataFrame'>\n",
      "RangeIndex: 950 entries, 0 to 949\n",
      "Data columns (total 4 columns):\n",
      " #   Column   Non-Null Count  Dtype  \n",
      "---  ------   --------------  -----  \n",
      " 0   Name     950 non-null    object \n",
      " 1   Rating   577 non-null    float64\n",
      " 2   Runtime  630 non-null    float64\n",
      " 3   Votes    577 non-null    float64\n",
      "dtypes: float64(3), object(1)\n",
      "memory usage: 29.8+ KB\n"
     ]
    }
   ],
   "source": [
    "df.info()"
   ]
  },
  {
   "cell_type": "code",
   "execution_count": 16,
   "id": "4774407f-4fb4-43b0-9c30-6fdf8f56245e",
   "metadata": {},
   "outputs": [],
   "source": [
    "df.dropna(inplace=True)"
   ]
  },
  {
   "cell_type": "code",
   "execution_count": 17,
   "id": "ee8704b4-ba1e-42f9-be18-9b8213fa00eb",
   "metadata": {},
   "outputs": [
    {
     "name": "stdout",
     "output_type": "stream",
     "text": [
      "<class 'pandas.core.frame.DataFrame'>\n",
      "Index: 542 entries, 0 to 948\n",
      "Data columns (total 4 columns):\n",
      " #   Column   Non-Null Count  Dtype  \n",
      "---  ------   --------------  -----  \n",
      " 0   Name     542 non-null    object \n",
      " 1   Rating   542 non-null    float64\n",
      " 2   Runtime  542 non-null    float64\n",
      " 3   Votes    542 non-null    float64\n",
      "dtypes: float64(3), object(1)\n",
      "memory usage: 21.2+ KB\n"
     ]
    }
   ],
   "source": [
    "df.info()"
   ]
  },
  {
   "cell_type": "code",
   "execution_count": 18,
   "id": "12469e1f-ca0f-4094-81db-527a04b1a98f",
   "metadata": {},
   "outputs": [
    {
     "data": {
      "text/html": [
       "<div>\n",
       "<style scoped>\n",
       "    .dataframe tbody tr th:only-of-type {\n",
       "        vertical-align: middle;\n",
       "    }\n",
       "\n",
       "    .dataframe tbody tr th {\n",
       "        vertical-align: top;\n",
       "    }\n",
       "\n",
       "    .dataframe thead th {\n",
       "        text-align: right;\n",
       "    }\n",
       "</style>\n",
       "<table border=\"1\" class=\"dataframe\">\n",
       "  <thead>\n",
       "    <tr style=\"text-align: right;\">\n",
       "      <th></th>\n",
       "      <th>Name</th>\n",
       "      <th>Rating</th>\n",
       "      <th>Runtime</th>\n",
       "      <th>Votes</th>\n",
       "    </tr>\n",
       "  </thead>\n",
       "  <tbody>\n",
       "    <tr>\n",
       "      <th>1</th>\n",
       "      <td>Radhe</td>\n",
       "      <td>1.8</td>\n",
       "      <td>135.0</td>\n",
       "      <td>162353.0</td>\n",
       "    </tr>\n",
       "    <tr>\n",
       "      <th>20</th>\n",
       "      <td>Race 3</td>\n",
       "      <td>1.9</td>\n",
       "      <td>160.0</td>\n",
       "      <td>42420.0</td>\n",
       "    </tr>\n",
       "    <tr>\n",
       "      <th>62</th>\n",
       "      <td>Sadak 2</td>\n",
       "      <td>1.1</td>\n",
       "      <td>133.0</td>\n",
       "      <td>67774.0</td>\n",
       "    </tr>\n",
       "    <tr>\n",
       "      <th>117</th>\n",
       "      <td>Time to Dance</td>\n",
       "      <td>1.8</td>\n",
       "      <td>113.0</td>\n",
       "      <td>730.0</td>\n",
       "    </tr>\n",
       "    <tr>\n",
       "      <th>462</th>\n",
       "      <td>Welcome to New York</td>\n",
       "      <td>1.6</td>\n",
       "      <td>118.0</td>\n",
       "      <td>773.0</td>\n",
       "    </tr>\n",
       "  </tbody>\n",
       "</table>\n",
       "</div>"
      ],
      "text/plain": [
       "                    Name  Rating  Runtime     Votes\n",
       "1                  Radhe     1.8    135.0  162353.0\n",
       "20                Race 3     1.9    160.0   42420.0\n",
       "62               Sadak 2     1.1    133.0   67774.0\n",
       "117        Time to Dance     1.8    113.0     730.0\n",
       "462  Welcome to New York     1.6    118.0     773.0"
      ]
     },
     "execution_count": 18,
     "metadata": {},
     "output_type": "execute_result"
    }
   ],
   "source": [
    "df[df['Rating']<2]"
   ]
  },
  {
   "cell_type": "code",
   "execution_count": 19,
   "id": "c2605ac8-b627-4494-980d-d6e1b8a287f1",
   "metadata": {},
   "outputs": [
    {
     "data": {
      "text/html": [
       "<div>\n",
       "<style scoped>\n",
       "    .dataframe tbody tr th:only-of-type {\n",
       "        vertical-align: middle;\n",
       "    }\n",
       "\n",
       "    .dataframe tbody tr th {\n",
       "        vertical-align: top;\n",
       "    }\n",
       "\n",
       "    .dataframe thead th {\n",
       "        text-align: right;\n",
       "    }\n",
       "</style>\n",
       "<table border=\"1\" class=\"dataframe\">\n",
       "  <thead>\n",
       "    <tr style=\"text-align: right;\">\n",
       "      <th></th>\n",
       "      <th>Name</th>\n",
       "      <th>Rating</th>\n",
       "      <th>Runtime</th>\n",
       "      <th>Votes</th>\n",
       "    </tr>\n",
       "  </thead>\n",
       "  <tbody>\n",
       "    <tr>\n",
       "      <th>1</th>\n",
       "      <td>Radhe</td>\n",
       "      <td>1.8</td>\n",
       "      <td>135.0</td>\n",
       "      <td>162353.0</td>\n",
       "    </tr>\n",
       "  </tbody>\n",
       "</table>\n",
       "</div>"
      ],
      "text/plain": [
       "    Name  Rating  Runtime     Votes\n",
       "1  Radhe     1.8    135.0  162353.0"
      ]
     },
     "execution_count": 19,
     "metadata": {},
     "output_type": "execute_result"
    }
   ],
   "source": [
    "df[df['Votes']==df['Votes'].max()]"
   ]
  },
  {
   "cell_type": "code",
   "execution_count": 20,
   "id": "f4808f86-6680-427d-9b49-f8994badcb71",
   "metadata": {},
   "outputs": [
    {
     "data": {
      "text/html": [
       "<div>\n",
       "<style scoped>\n",
       "    .dataframe tbody tr th:only-of-type {\n",
       "        vertical-align: middle;\n",
       "    }\n",
       "\n",
       "    .dataframe tbody tr th {\n",
       "        vertical-align: top;\n",
       "    }\n",
       "\n",
       "    .dataframe thead th {\n",
       "        text-align: right;\n",
       "    }\n",
       "</style>\n",
       "<table border=\"1\" class=\"dataframe\">\n",
       "  <thead>\n",
       "    <tr style=\"text-align: right;\">\n",
       "      <th></th>\n",
       "      <th>Name</th>\n",
       "      <th>Rating</th>\n",
       "      <th>Runtime</th>\n",
       "      <th>Votes</th>\n",
       "    </tr>\n",
       "  </thead>\n",
       "  <tbody>\n",
       "    <tr>\n",
       "      <th>844</th>\n",
       "      <td>Reason</td>\n",
       "      <td>9.1</td>\n",
       "      <td>261.0</td>\n",
       "      <td>125.0</td>\n",
       "    </tr>\n",
       "  </tbody>\n",
       "</table>\n",
       "</div>"
      ],
      "text/plain": [
       "       Name  Rating  Runtime  Votes\n",
       "844  Reason     9.1    261.0  125.0"
      ]
     },
     "execution_count": 20,
     "metadata": {},
     "output_type": "execute_result"
    }
   ],
   "source": [
    "df[df['Runtime']==df['Runtime'].max()]"
   ]
  },
  {
   "cell_type": "code",
   "execution_count": 21,
   "id": "bac9b08b-e007-4d4d-b0f9-a61c5f650961",
   "metadata": {},
   "outputs": [
    {
     "data": {
      "text/html": [
       "<div>\n",
       "<style scoped>\n",
       "    .dataframe tbody tr th:only-of-type {\n",
       "        vertical-align: middle;\n",
       "    }\n",
       "\n",
       "    .dataframe tbody tr th {\n",
       "        vertical-align: top;\n",
       "    }\n",
       "\n",
       "    .dataframe thead th {\n",
       "        text-align: right;\n",
       "    }\n",
       "</style>\n",
       "<table border=\"1\" class=\"dataframe\">\n",
       "  <thead>\n",
       "    <tr style=\"text-align: right;\">\n",
       "      <th></th>\n",
       "      <th>Rating</th>\n",
       "      <th>Runtime</th>\n",
       "      <th>Votes</th>\n",
       "    </tr>\n",
       "  </thead>\n",
       "  <tbody>\n",
       "    <tr>\n",
       "      <th>count</th>\n",
       "      <td>542.000000</td>\n",
       "      <td>542.000000</td>\n",
       "      <td>542.000000</td>\n",
       "    </tr>\n",
       "    <tr>\n",
       "      <th>mean</th>\n",
       "      <td>6.157749</td>\n",
       "      <td>117.439114</td>\n",
       "      <td>4819.313653</td>\n",
       "    </tr>\n",
       "    <tr>\n",
       "      <th>std</th>\n",
       "      <td>1.660391</td>\n",
       "      <td>24.915068</td>\n",
       "      <td>12772.636659</td>\n",
       "    </tr>\n",
       "    <tr>\n",
       "      <th>min</th>\n",
       "      <td>1.100000</td>\n",
       "      <td>45.000000</td>\n",
       "      <td>5.000000</td>\n",
       "    </tr>\n",
       "    <tr>\n",
       "      <th>25%</th>\n",
       "      <td>5.100000</td>\n",
       "      <td>101.000000</td>\n",
       "      <td>82.000000</td>\n",
       "    </tr>\n",
       "    <tr>\n",
       "      <th>50%</th>\n",
       "      <td>6.400000</td>\n",
       "      <td>119.000000</td>\n",
       "      <td>653.500000</td>\n",
       "    </tr>\n",
       "    <tr>\n",
       "      <th>75%</th>\n",
       "      <td>7.400000</td>\n",
       "      <td>134.750000</td>\n",
       "      <td>4035.000000</td>\n",
       "    </tr>\n",
       "    <tr>\n",
       "      <th>max</th>\n",
       "      <td>9.700000</td>\n",
       "      <td>261.000000</td>\n",
       "      <td>162353.000000</td>\n",
       "    </tr>\n",
       "  </tbody>\n",
       "</table>\n",
       "</div>"
      ],
      "text/plain": [
       "           Rating     Runtime          Votes\n",
       "count  542.000000  542.000000     542.000000\n",
       "mean     6.157749  117.439114    4819.313653\n",
       "std      1.660391   24.915068   12772.636659\n",
       "min      1.100000   45.000000       5.000000\n",
       "25%      5.100000  101.000000      82.000000\n",
       "50%      6.400000  119.000000     653.500000\n",
       "75%      7.400000  134.750000    4035.000000\n",
       "max      9.700000  261.000000  162353.000000"
      ]
     },
     "execution_count": 21,
     "metadata": {},
     "output_type": "execute_result"
    }
   ],
   "source": [
    "df.describe()"
   ]
  },
  {
   "cell_type": "code",
   "execution_count": 22,
   "id": "e300e60e-24fa-4467-9f15-75a9e9fbd0e8",
   "metadata": {},
   "outputs": [
    {
     "name": "stdout",
     "output_type": "stream",
     "text": [
      "Rating\n"
     ]
    },
    {
     "data": {
      "image/png": "[encoded data removed]",
      "text/plain": [
       "<Figure size 500x500 with 1 Axes>"
      ]
     },
     "metadata": {},
     "output_type": "display_data"
    },
    {
     "name": "stdout",
     "output_type": "stream",
     "text": [
      "Runtime\n"
     ]
    },
    {
     "data": {
      "image/png": "[encoded data removed]",
      "text/plain": [
       "<Figure size 500x500 with 1 Axes>"
      ]
     },
     "metadata": {},
     "output_type": "display_data"
    },
    {
     "name": "stdout",
     "output_type": "stream",
     "text": [
      "Votes\n"
     ]
    },
    {
     "data": {
      "image/png": "[encoded data removed]",
      "text/plain": [
       "<Figure size 500x500 with 1 Axes>"
      ]
     },
     "metadata": {},
     "output_type": "display_data"
    }
   ],
   "source": [
    "for col_name in df.select_dtypes('number').columns:\n",
    "    print(col_name)\n",
    "    sns.displot(df[col_name])\n",
    "    plt.show()"
   ]
  },
  {
   "cell_type": "code",
   "execution_count": 23,
   "id": "3ce47f14-981e-49ed-91e8-800717c6c253",
   "metadata": {},
   "outputs": [
    {
     "name": "stdout",
     "output_type": "stream",
     "text": [
      "Rating\n"
     ]
    },
    {
     "data": {
      "image/png": "[encoded data removed]",
      "text/plain": [
       "<Figure size 640x480 with 1 Axes>"
      ]
     },
     "metadata": {},
     "output_type": "display_data"
    },
    {
     "name": "stdout",
     "output_type": "stream",
     "text": [
      "Runtime\n"
     ]
    },
    {
     "data": {
      "image/png": "[encoded data removed]",
      "text/plain": [
       "<Figure size 640x480 with 1 Axes>"
      ]
     },
     "metadata": {},
     "output_type": "display_data"
    },
    {
     "name": "stdout",
     "output_type": "stream",
     "text": [
      "Votes\n"
     ]
    },
    {
     "data": {
      "image/png": "[encoded data removed]",
      "text/plain": [
       "<Figure size 640x480 with 1 Axes>"
      ]
     },
     "metadata": {},
     "output_type": "display_data"
    }
   ],
   "source": [
    "for col_name in df.select_dtypes('number').columns:\n",
    "    print(col_name)\n",
    "    sns.boxplot(df[col_name])\n",
    "    plt.show()"
   ]
  },
  {
   "cell_type": "code",
   "execution_count": 24,
   "id": "66f5b5e5-0c95-43de-b45d-0812b9eb277e",
   "metadata": {},
   "outputs": [],
   "source": [
    "from sklearn.preprocessing import MinMaxScaler\n",
    "mm=MinMaxScaler()"
   ]
  },
  {
   "cell_type": "code",
   "execution_count": 25,
   "id": "18ff14ec-5b5c-4453-862f-8a5959003994",
   "metadata": {},
   "outputs": [],
   "source": [
    "features=mm.fit_transform(df.drop('Name',axis=1))"
   ]
  },
  {
   "cell_type": "code",
   "execution_count": 26,
   "id": "55c47434-f3ce-4cd8-a99b-7d064e5f2e55",
   "metadata": {},
   "outputs": [],
   "source": [
    "from sklearn.metrics.pairwise import cosine_similarity"
   ]
  },
  {
   "cell_type": "code",
   "execution_count": 27,
   "id": "577bb258-4399-4f5c-9731-bb494c27cfa3",
   "metadata": {},
   "outputs": [],
   "source": [
    "similarity=cosine_similarity(features)"
   ]
  },
  {
   "cell_type": "code",
   "execution_count": 28,
   "id": "91535d54-030d-4e7f-8aa8-60912266f64d",
   "metadata": {},
   "outputs": [],
   "source": [
    "cosine_df=pd.DataFrame(similarity,index=df['Name'],columns=df['Name'])"
   ]
  },
  {
   "cell_type": "code",
   "execution_count": 29,
   "id": "6e2dc909-0d1e-47b4-b501-2dd140098f28",
   "metadata": {},
   "outputs": [],
   "source": [
    "def recommend_movies(movie_name):\n",
    "    print('Movie Watched:',movie_name)\n",
    "    print('Top 10 Recommended Movies:')\n",
    "    for i in cosine_df[movie_name].sort_values(ascending=False)[1:].head(10).index:\n",
    "        print(i)"
   ]
  },
  {
   "cell_type": "code",
   "execution_count": 30,
   "id": "39583489-4716-41a7-b678-21a34c06d045",
   "metadata": {},
   "outputs": [
    {
     "name": "stdout",
     "output_type": "stream",
     "text": [
      "Movie Watched: Raazi\n",
      "Top 10 Recommended Movies:\n",
      "Tanhaji: The Unsung Warrior\n",
      "Pad Man\n",
      "Parmanu: The Story of Pokhran\n",
      "Stree\n",
      "Sonu Ke Titu Ki Sweety\n",
      "Article 15\n",
      "Chhichhore\n",
      "Khuda Haafiz\n",
      "Super 30\n",
      "Gully Boy\n"
     ]
    }
   ],
   "source": [
    "recommend_movies('Raazi')"
   ]
  },
  {
   "cell_type": "code",
   "execution_count": null,
   "id": "54a2838e-25cd-4cce-9b02-47c5dbbf1993",
   "metadata": {},
   "outputs": [],
   "source": []
  }
 ],
 "metadata": {
  "kernelspec": {
   "display_name": "Python 3 (ipykernel)",
   "language": "python",
   "name": "python3"
  },
  "language_info": {
   "codemirror_mode": {
    "name": "ipython",
    "version": 3
   },
   "file_extension": ".py",
   "mimetype": "text/x-python",
   "name": "python",
   "nbconvert_exporter": "python",
   "pygments_lexer": "ipython3",
   "version": "3.12.7"
  }
 },
 "nbformat": 4,
 "nbformat_minor": 5
}
